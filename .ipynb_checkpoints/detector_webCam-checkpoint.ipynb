{
 "cells": [
  {
   "cell_type": "code",
   "execution_count": 1,
   "id": "965003f3-c33d-479a-a778-5e7a12a20672",
   "metadata": {},
   "outputs": [],
   "source": [
    "import cv2\n",
    "\n",
    "detector_face = cv2.CascadeClassifier('haarcascade_frontalface_default.xml')\n",
    "\n",
    "captura = cv2.VideoCapture(0)\n",
    "\n",
    "while True:\n",
    "    ret, img = captura.read()\n",
    "    img_cinza = cv2.cvtColor(img, cv2.COLOR_BGR2GRAY)\n",
    "    face_detectada = detector_face.detectMultiScale(img_cinza)\n",
    "    for (x, y, l, a) in face_detectada:\n",
    "        cv2.rectangle(img, (x, y), (x + l, y + a), (0, 0, 255), 2)\n",
    "    cv2.imshow('Face Detectada', img)\n",
    "    if cv2.waitKey(1) == ord('x'):\n",
    "        break\n",
    "        \n",
    "captura.release()\n",
    "\n",
    "cv2.destroyAllWindows()\n"
   ]
  },
  {
   "cell_type": "code",
   "execution_count": null,
   "id": "dd65151c-495d-4cca-b1b7-259d52fe02e1",
   "metadata": {},
   "outputs": [],
   "source": []
  }
 ],
 "metadata": {
  "kernelspec": {
   "display_name": "Python 3 (ipykernel)",
   "language": "python",
   "name": "python3"
  },
  "language_info": {
   "codemirror_mode": {
    "name": "ipython",
    "version": 3
   },
   "file_extension": ".py",
   "mimetype": "text/x-python",
   "name": "python",
   "nbconvert_exporter": "python",
   "pygments_lexer": "ipython3",
   "version": "3.10.2"
  }
 },
 "nbformat": 4,
 "nbformat_minor": 5
}
